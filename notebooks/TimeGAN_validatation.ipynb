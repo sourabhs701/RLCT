{
 "cells": [
  {
   "cell_type": "code",
   "execution_count": 4,
   "metadata": {},
   "outputs": [],
   "source": [
    "import sys\n",
    "from pathlib import Path\n",
    "import numpy as np\n",
    "import pandas as pd\n",
    "\n",
    "project_root = str(Path().absolute().parent)\n",
    "if project_root not in sys.path:\n",
    "    sys.path.append(project_root)\n",
    "\n",
    "from src.validate.TimeGan.dtw import (\n",
    "    compute_dtw)\n",
    "from src.validate.TimeGan.fid import (\n",
    "    compute_fid)\n"
   ]
  },
  {
   "cell_type": "code",
   "execution_count": 13,
   "metadata": {},
   "outputs": [
    {
     "name": "stdout",
     "output_type": "stream",
     "text": [
      "DTW: 148780747.81016687\n",
      "FID: 40062877425.91469\n"
     ]
    }
   ],
   "source": [
    "real_data_df = pd.read_csv('/Users/srb/Work/RLCT/data/processed/BTCUSDT_1h_Jan_2025.csv')  \n",
    "synthetic_data_df = pd.read_csv('/Users/srb/Work/RLCT/data/synthetic/synthetic_data_new.csv')  \n",
    "\n",
    "# Convert DataFrames to NumPy arrays\n",
    "real_data = real_data_df.values\n",
    "synthetic_data = synthetic_data_df.values\n",
    "\n",
    "dtw_value = compute_dtw(real_data, synthetic_data)\n",
    "print(f\"DTW: {dtw_value}\")\n",
    "\n",
    "fid_value = compute_fid(real_data, synthetic_data)\n",
    "print(f\"FID: {fid_value}\")"
   ]
  },
  {
   "cell_type": "markdown",
   "metadata": {},
   "source": [
    "## BTCUSDT_1h_Jan_2025.csv && synthetic_data.csv\n",
    "DTW: 148781089.70037362\n",
    "FID: 40063293986.20711\n",
    "\n",
    "\n",
    "## BTCUSDT_1h_Jan_2025.csv && local.csv\n",
    "DTW: 148780739.60074028\n",
    "FID: 40062870391.443855\n",
    "\n",
    "## BTCUSDT_1h_Jan_2025.csv && synthetic_data_new.csv\n",
    "DTW: 148780747.81016687\n",
    "FID: 40062877425.91469\n",
    "\n",
    "\n",
    "\n"
   ]
  },
  {
   "cell_type": "markdown",
   "metadata": {},
   "source": []
  }
 ],
 "metadata": {
  "kernelspec": {
   "display_name": "Python 3",
   "language": "python",
   "name": "python3"
  },
  "language_info": {
   "codemirror_mode": {
    "name": "ipython",
    "version": 3
   },
   "file_extension": ".py",
   "mimetype": "text/x-python",
   "name": "python",
   "nbconvert_exporter": "python",
   "pygments_lexer": "ipython3",
   "version": "3.11.11"
  }
 },
 "nbformat": 4,
 "nbformat_minor": 4
}
